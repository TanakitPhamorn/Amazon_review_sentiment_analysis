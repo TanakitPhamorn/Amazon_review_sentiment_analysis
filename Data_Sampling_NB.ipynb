{
 "cells": [
  {
   "cell_type": "markdown",
   "id": "19bf8a1a-f59a-484e-85cb-84be5c5c60a9",
   "metadata": {},
   "source": [
    "# Amazon_review_sentiment_analysis"
   ]
  },
  {
   "cell_type": "markdown",
   "id": "dd556a1e-c026-4e25-b625-c74210c520de",
   "metadata": {},
   "source": [
    "## Load Data"
   ]
  },
  {
   "cell_type": "code",
   "execution_count": 5,
   "id": "b69b2a66-b835-4d08-aeca-aa768bea1616",
   "metadata": {},
   "outputs": [],
   "source": [
    "import pandas as pd\n",
    "import numpy as np\n",
    "import seaborn as sns\n",
    "import ndjson # using ndjson as data loader"
   ]
  },
  {
   "cell_type": "code",
   "execution_count": 20,
   "id": "31fa9a98-aa93-4668-99a6-0adcd45bd20f",
   "metadata": {},
   "outputs": [],
   "source": [
    "# loading data from json file\n",
    "with open('./data/Appliances.json') as f:\n",
    "    data = ndjson.load(f)"
   ]
  },
  {
   "cell_type": "code",
   "execution_count": 21,
   "id": "4bfd4c8e-9d4e-4b99-b53f-0729829e26b4",
   "metadata": {},
   "outputs": [],
   "source": [
    "df = pd.DataFrame(data)"
   ]
  },
  {
   "cell_type": "code",
   "execution_count": 22,
   "id": "9ed5110d-cc63-4233-b642-bc51b546230e",
   "metadata": {},
   "outputs": [
    {
     "data": {
      "text/html": [
       "<div>\n",
       "<style scoped>\n",
       "    .dataframe tbody tr th:only-of-type {\n",
       "        vertical-align: middle;\n",
       "    }\n",
       "\n",
       "    .dataframe tbody tr th {\n",
       "        vertical-align: top;\n",
       "    }\n",
       "\n",
       "    .dataframe thead th {\n",
       "        text-align: right;\n",
       "    }\n",
       "</style>\n",
       "<table border=\"1\" class=\"dataframe\">\n",
       "  <thead>\n",
       "    <tr style=\"text-align: right;\">\n",
       "      <th></th>\n",
       "      <th>overall</th>\n",
       "      <th>vote</th>\n",
       "      <th>verified</th>\n",
       "      <th>reviewTime</th>\n",
       "      <th>reviewerID</th>\n",
       "      <th>asin</th>\n",
       "      <th>style</th>\n",
       "      <th>reviewerName</th>\n",
       "      <th>reviewText</th>\n",
       "      <th>summary</th>\n",
       "      <th>unixReviewTime</th>\n",
       "      <th>image</th>\n",
       "    </tr>\n",
       "  </thead>\n",
       "  <tbody>\n",
       "    <tr>\n",
       "      <th>0</th>\n",
       "      <td>5.0</td>\n",
       "      <td>2</td>\n",
       "      <td>False</td>\n",
       "      <td>11 27, 2013</td>\n",
       "      <td>A3NHUQ33CFH3VM</td>\n",
       "      <td>1118461304</td>\n",
       "      <td>{'Format:': ' Hardcover'}</td>\n",
       "      <td>Greeny</td>\n",
       "      <td>Not one thing in this book seemed an obvious o...</td>\n",
       "      <td>Clear on what leads to innovation</td>\n",
       "      <td>1385510400</td>\n",
       "      <td>NaN</td>\n",
       "    </tr>\n",
       "    <tr>\n",
       "      <th>1</th>\n",
       "      <td>5.0</td>\n",
       "      <td>NaN</td>\n",
       "      <td>False</td>\n",
       "      <td>11 1, 2013</td>\n",
       "      <td>A3SK6VNBQDNBJE</td>\n",
       "      <td>1118461304</td>\n",
       "      <td>{'Format:': ' Kindle Edition'}</td>\n",
       "      <td>Leif C. Ulstrup</td>\n",
       "      <td>I have enjoyed Dr. Alan Gregerman's weekly blo...</td>\n",
       "      <td>Becoming more innovative by opening yourself t...</td>\n",
       "      <td>1383264000</td>\n",
       "      <td>NaN</td>\n",
       "    </tr>\n",
       "    <tr>\n",
       "      <th>2</th>\n",
       "      <td>5.0</td>\n",
       "      <td>NaN</td>\n",
       "      <td>False</td>\n",
       "      <td>10 10, 2013</td>\n",
       "      <td>A3SOFHUR27FO3K</td>\n",
       "      <td>1118461304</td>\n",
       "      <td>{'Format:': ' Hardcover'}</td>\n",
       "      <td>Harry Gilbert Miller III</td>\n",
       "      <td>Alan Gregerman believes that innovation comes ...</td>\n",
       "      <td>The World from Different Perspectives</td>\n",
       "      <td>1381363200</td>\n",
       "      <td>NaN</td>\n",
       "    </tr>\n",
       "    <tr>\n",
       "      <th>3</th>\n",
       "      <td>5.0</td>\n",
       "      <td>NaN</td>\n",
       "      <td>False</td>\n",
       "      <td>10 9, 2013</td>\n",
       "      <td>A1HOG1PYCAE157</td>\n",
       "      <td>1118461304</td>\n",
       "      <td>{'Format:': ' Hardcover'}</td>\n",
       "      <td>Rebecca Ripley</td>\n",
       "      <td>Alan Gregerman is a smart, funny, entertaining...</td>\n",
       "      <td>Strangers are Your New Best Friends</td>\n",
       "      <td>1381276800</td>\n",
       "      <td>NaN</td>\n",
       "    </tr>\n",
       "    <tr>\n",
       "      <th>4</th>\n",
       "      <td>5.0</td>\n",
       "      <td>10</td>\n",
       "      <td>False</td>\n",
       "      <td>09 7, 2013</td>\n",
       "      <td>A26JGAM6GZMM4V</td>\n",
       "      <td>1118461304</td>\n",
       "      <td>{'Format:': ' Hardcover'}</td>\n",
       "      <td>Robert Morris</td>\n",
       "      <td>As I began to read this book, I was again remi...</td>\n",
       "      <td>How and why it is imperative to engage, learn ...</td>\n",
       "      <td>1378512000</td>\n",
       "      <td>NaN</td>\n",
       "    </tr>\n",
       "  </tbody>\n",
       "</table>\n",
       "</div>"
      ],
      "text/plain": [
       "   overall vote  verified   reviewTime      reviewerID        asin  \\\n",
       "0      5.0    2     False  11 27, 2013  A3NHUQ33CFH3VM  1118461304   \n",
       "1      5.0  NaN     False   11 1, 2013  A3SK6VNBQDNBJE  1118461304   \n",
       "2      5.0  NaN     False  10 10, 2013  A3SOFHUR27FO3K  1118461304   \n",
       "3      5.0  NaN     False   10 9, 2013  A1HOG1PYCAE157  1118461304   \n",
       "4      5.0   10     False   09 7, 2013  A26JGAM6GZMM4V  1118461304   \n",
       "\n",
       "                            style              reviewerName  \\\n",
       "0       {'Format:': ' Hardcover'}                    Greeny   \n",
       "1  {'Format:': ' Kindle Edition'}           Leif C. Ulstrup   \n",
       "2       {'Format:': ' Hardcover'}  Harry Gilbert Miller III   \n",
       "3       {'Format:': ' Hardcover'}            Rebecca Ripley   \n",
       "4       {'Format:': ' Hardcover'}             Robert Morris   \n",
       "\n",
       "                                          reviewText  \\\n",
       "0  Not one thing in this book seemed an obvious o...   \n",
       "1  I have enjoyed Dr. Alan Gregerman's weekly blo...   \n",
       "2  Alan Gregerman believes that innovation comes ...   \n",
       "3  Alan Gregerman is a smart, funny, entertaining...   \n",
       "4  As I began to read this book, I was again remi...   \n",
       "\n",
       "                                             summary  unixReviewTime image  \n",
       "0                  Clear on what leads to innovation      1385510400   NaN  \n",
       "1  Becoming more innovative by opening yourself t...      1383264000   NaN  \n",
       "2              The World from Different Perspectives      1381363200   NaN  \n",
       "3                Strangers are Your New Best Friends      1381276800   NaN  \n",
       "4  How and why it is imperative to engage, learn ...      1378512000   NaN  "
      ]
     },
     "execution_count": 22,
     "metadata": {},
     "output_type": "execute_result"
    }
   ],
   "source": [
    "df.head()"
   ]
  },
  {
   "cell_type": "markdown",
   "id": "fe3036a7-2ec1-4b5e-83b4-d639db1ee7f9",
   "metadata": {},
   "source": [
    "### Data Dictionry <br>\n",
    "reviewerID - ID of the reviewer, e.g. A2SUAM1J3GNN3B <br>\n",
    "asin - ID of the product, e.g. 0000013714 <br>\n",
    "reviewerName - name of the reviewer <br>\n",
    "vote - helpful votes of the review <br>\n",
    "style - a disctionary of the product metadata, e.g., \"Format\" is \"Hardcover\" <br>\n",
    "reviewText - text of the review <br>\n",
    "overall - rating of the product <br>\n",
    "summary - summary of the review <br>\n",
    "unixReviewTime - time of the review (unix time) <br>\n",
    "reviewTime - time of the review (raw) <br>\n",
    "image - images that users post after they have received the product <br>"
   ]
  },
  {
   "cell_type": "markdown",
   "id": "035a7978-48ba-49f4-b787-5a064afdd1ec",
   "metadata": {},
   "source": [
    "## Exploratory Data Analysis"
   ]
  },
  {
   "cell_type": "code",
   "execution_count": 23,
   "id": "61a35694-7ff6-42bd-8da3-8817657d73ce",
   "metadata": {},
   "outputs": [
    {
     "data": {
      "text/plain": [
       "(602777, 12)"
      ]
     },
     "execution_count": 23,
     "metadata": {},
     "output_type": "execute_result"
    }
   ],
   "source": [
    "df.shape"
   ]
  },
  {
   "cell_type": "code",
   "execution_count": 24,
   "id": "f4b4aac9-5c08-40aa-b708-4bfea8cfe4b4",
   "metadata": {},
   "outputs": [
    {
     "name": "stdout",
     "output_type": "stream",
     "text": [
      "<class 'pandas.core.frame.DataFrame'>\n",
      "RangeIndex: 602777 entries, 0 to 602776\n",
      "Data columns (total 12 columns):\n",
      " #   Column          Non-Null Count   Dtype  \n",
      "---  ------          --------------   -----  \n",
      " 0   overall         602777 non-null  float64\n",
      " 1   vote            65262 non-null   object \n",
      " 2   verified        602777 non-null  bool   \n",
      " 3   reviewTime      602777 non-null  object \n",
      " 4   reviewerID      602777 non-null  object \n",
      " 5   asin            602777 non-null  object \n",
      " 6   style           137973 non-null  object \n",
      " 7   reviewerName    602762 non-null  object \n",
      " 8   reviewText      602453 non-null  object \n",
      " 9   summary         602649 non-null  object \n",
      " 10  unixReviewTime  602777 non-null  int64  \n",
      " 11  image           9258 non-null    object \n",
      "dtypes: bool(1), float64(1), int64(1), object(9)\n",
      "memory usage: 51.2+ MB\n"
     ]
    }
   ],
   "source": [
    "df.info()"
   ]
  },
  {
   "cell_type": "code",
   "execution_count": 30,
   "id": "1f51475e-4022-4748-a2d1-f5af2a5d5ebc",
   "metadata": {},
   "outputs": [
    {
     "data": {
      "text/plain": [
       "<AxesSubplot:xlabel='overall', ylabel='count'>"
      ]
     },
     "execution_count": 30,
     "metadata": {},
     "output_type": "execute_result"
    },
    {
     "data": {
      "image/png": "[encoded data removed]",
      "text/plain": [
       "<Figure size 432x288 with 1 Axes>"
      ]
     },
     "metadata": {
      "needs_background": "light"
     },
     "output_type": "display_data"
    }
   ],
   "source": [
    "# The overall rating of this dataset is imbalance. We need use a sampling technique.\n",
    "sns.countplot(data = df, x=\"overall\")"
   ]
  },
  {
   "cell_type": "code",
   "execution_count": 26,
   "id": "d738d38d-2847-44a5-817e-48ff19865f48",
   "metadata": {},
   "outputs": [
    {
     "data": {
      "text/plain": [
       "overall                0\n",
       "vote              537515\n",
       "verified               0\n",
       "reviewTime             0\n",
       "reviewerID             0\n",
       "asin                   0\n",
       "style             464804\n",
       "reviewerName          15\n",
       "reviewText           324\n",
       "summary              128\n",
       "unixReviewTime         0\n",
       "image             593519\n",
       "dtype: int64"
      ]
     },
     "execution_count": 26,
     "metadata": {},
     "output_type": "execute_result"
    }
   ],
   "source": [
    "df.isna().sum()"
   ]
  },
  {
   "cell_type": "code",
   "execution_count": 31,
   "id": "768a142e-36cf-404a-b8a3-b65c1a2437e4",
   "metadata": {},
   "outputs": [],
   "source": [
    "# we are going to ignore vote, style reviewerName and image columns but not summary or review text columns.\n",
    "df.dropna(axis=0, subset=['reviewText','summary'], inplace=True)"
   ]
  },
  {
   "cell_type": "code",
   "execution_count": 32,
   "id": "226f2ca3-77d2-4d9e-a1c2-7500ae068500",
   "metadata": {},
   "outputs": [
    {
     "data": {
      "text/plain": [
       "overall                0\n",
       "vote              537109\n",
       "verified               0\n",
       "reviewTime             0\n",
       "reviewerID             0\n",
       "asin                   0\n",
       "style             464489\n",
       "reviewerName          15\n",
       "reviewText             0\n",
       "summary                0\n",
       "unixReviewTime         0\n",
       "image             593153\n",
       "dtype: int64"
      ]
     },
     "execution_count": 32,
     "metadata": {},
     "output_type": "execute_result"
    }
   ],
   "source": [
    "# Now, all the rows with null summary or review text is dropped.\n",
    "df.isna().sum()"
   ]
  },
  {
   "cell_type": "code",
   "execution_count": 38,
   "id": "30e20cd8-17c4-4a2c-b1ea-940fbb82fd90",
   "metadata": {},
   "outputs": [
    {
     "data": {
      "text/plain": [
       "5.0    415937\n",
       "4.0     75430\n",
       "1.0     59603\n",
       "3.0     30641\n",
       "2.0     20729\n",
       "Name: overall, dtype: int64"
      ]
     },
     "execution_count": 38,
     "metadata": {},
     "output_type": "execute_result"
    }
   ],
   "source": [
    "df['overall'].value_counts(dropna=False)"
   ]
  },
  {
   "cell_type": "code",
   "execution_count": 66,
   "id": "8301bc1b-6cd8-44d0-8e50-f8a0c7cff74b",
   "metadata": {},
   "outputs": [],
   "source": [
    "def sampling(df, n_sample):\n",
    "    onestar   = df[df['overall']==1.0].sample(n=n_sample[0], random_state=4444)\n",
    "    twostar   = df[df['overall']==2.0].sample(n=n_sample[1], random_state=4444)\n",
    "    threestar = df[df['overall']==3.0].sample(n=n_sample[2], random_state=4444)\n",
    "    fourstar  = df[df['overall']==4.0].sample(n=n_sample[3], random_state=4444)\n",
    "    fivestar  = df[df['overall']==5.0].sample(n=n_sample[4], random_state=4444)\n",
    "    sample_df = pd.concat([onestar, twostar, threestar, fourstar, fivestar], axis=0).reset_index(drop=True)\n",
    "    return sample_df"
   ]
  },
  {
   "cell_type": "code",
   "execution_count": 70,
   "id": "39ca5dee-f940-4b10-b2fc-ef3a9444afdd",
   "metadata": {},
   "outputs": [],
   "source": [
    "# because 2-3-4 stars reviews are considered as neutral, we're going to take the sample with 3:1:1:1:3 ratio\n",
    "sample_df = sampling(df,[9000,3000,3000,3000,9000])"
   ]
  },
  {
   "cell_type": "code",
   "execution_count": 71,
   "id": "113a951d-acb3-45da-9450-728e3ed58467",
   "metadata": {},
   "outputs": [
    {
     "data": {
      "text/html": [
       "<div>\n",
       "<style scoped>\n",
       "    .dataframe tbody tr th:only-of-type {\n",
       "        vertical-align: middle;\n",
       "    }\n",
       "\n",
       "    .dataframe tbody tr th {\n",
       "        vertical-align: top;\n",
       "    }\n",
       "\n",
       "    .dataframe thead th {\n",
       "        text-align: right;\n",
       "    }\n",
       "</style>\n",
       "<table border=\"1\" class=\"dataframe\">\n",
       "  <thead>\n",
       "    <tr style=\"text-align: right;\">\n",
       "      <th></th>\n",
       "      <th>overall</th>\n",
       "      <th>vote</th>\n",
       "      <th>verified</th>\n",
       "      <th>reviewTime</th>\n",
       "      <th>reviewerID</th>\n",
       "      <th>asin</th>\n",
       "      <th>style</th>\n",
       "      <th>reviewerName</th>\n",
       "      <th>reviewText</th>\n",
       "      <th>summary</th>\n",
       "      <th>unixReviewTime</th>\n",
       "      <th>image</th>\n",
       "    </tr>\n",
       "  </thead>\n",
       "  <tbody>\n",
       "    <tr>\n",
       "      <th>0</th>\n",
       "      <td>1.0</td>\n",
       "      <td>NaN</td>\n",
       "      <td>True</td>\n",
       "      <td>08 18, 2017</td>\n",
       "      <td>AOCVHLMSVFN9Q</td>\n",
       "      <td>B002HT0958</td>\n",
       "      <td>NaN</td>\n",
       "      <td>Shaolin Sneakerhead</td>\n",
       "      <td>garbage</td>\n",
       "      <td>garbage</td>\n",
       "      <td>1503014400</td>\n",
       "      <td>NaN</td>\n",
       "    </tr>\n",
       "    <tr>\n",
       "      <th>1</th>\n",
       "      <td>1.0</td>\n",
       "      <td>2</td>\n",
       "      <td>True</td>\n",
       "      <td>04 18, 2017</td>\n",
       "      <td>A3NN69KYT2JBFC</td>\n",
       "      <td>B0139C9QQY</td>\n",
       "      <td>NaN</td>\n",
       "      <td>G. W.</td>\n",
       "      <td>I purchased IcePure because it seemed like a g...</td>\n",
       "      <td>I purchased IcePure because it seemed like a g...</td>\n",
       "      <td>1492473600</td>\n",
       "      <td>NaN</td>\n",
       "    </tr>\n",
       "    <tr>\n",
       "      <th>2</th>\n",
       "      <td>1.0</td>\n",
       "      <td>NaN</td>\n",
       "      <td>False</td>\n",
       "      <td>03 4, 2013</td>\n",
       "      <td>AXM4KG7V79VWJ</td>\n",
       "      <td>B001P0O5WI</td>\n",
       "      <td>NaN</td>\n",
       "      <td>Power Surfer</td>\n",
       "      <td>It leaves detergent deposits, which happens ab...</td>\n",
       "      <td>Junk - Flee this Garbage</td>\n",
       "      <td>1362355200</td>\n",
       "      <td>NaN</td>\n",
       "    </tr>\n",
       "    <tr>\n",
       "      <th>3</th>\n",
       "      <td>1.0</td>\n",
       "      <td>11</td>\n",
       "      <td>True</td>\n",
       "      <td>01 1, 2015</td>\n",
       "      <td>A15WTATJN9X096</td>\n",
       "      <td>B00MG13AUS</td>\n",
       "      <td>NaN</td>\n",
       "      <td>Susana</td>\n",
       "      <td>We have a kitchenaid refrigerator and this pro...</td>\n",
       "      <td>do NOT buy for KITCHENAID</td>\n",
       "      <td>1420070400</td>\n",
       "      <td>NaN</td>\n",
       "    </tr>\n",
       "    <tr>\n",
       "      <th>4</th>\n",
       "      <td>1.0</td>\n",
       "      <td>NaN</td>\n",
       "      <td>True</td>\n",
       "      <td>12 16, 2015</td>\n",
       "      <td>A1Y38JINVTLHFZ</td>\n",
       "      <td>B00GECX2VW</td>\n",
       "      <td>NaN</td>\n",
       "      <td>Liway Hsi</td>\n",
       "      <td>This dryer is not reliable. It quits running a...</td>\n",
       "      <td>This dryer is not reliable. It quits running a...</td>\n",
       "      <td>1450224000</td>\n",
       "      <td>NaN</td>\n",
       "    </tr>\n",
       "  </tbody>\n",
       "</table>\n",
       "</div>"
      ],
      "text/plain": [
       "   overall vote  verified   reviewTime      reviewerID        asin style  \\\n",
       "0      1.0  NaN      True  08 18, 2017   AOCVHLMSVFN9Q  B002HT0958   NaN   \n",
       "1      1.0    2      True  04 18, 2017  A3NN69KYT2JBFC  B0139C9QQY   NaN   \n",
       "2      1.0  NaN     False   03 4, 2013   AXM4KG7V79VWJ  B001P0O5WI   NaN   \n",
       "3      1.0   11      True   01 1, 2015  A15WTATJN9X096  B00MG13AUS   NaN   \n",
       "4      1.0  NaN      True  12 16, 2015  A1Y38JINVTLHFZ  B00GECX2VW   NaN   \n",
       "\n",
       "          reviewerName                                         reviewText  \\\n",
       "0  Shaolin Sneakerhead                                            garbage   \n",
       "1                G. W.  I purchased IcePure because it seemed like a g...   \n",
       "2         Power Surfer  It leaves detergent deposits, which happens ab...   \n",
       "3               Susana  We have a kitchenaid refrigerator and this pro...   \n",
       "4            Liway Hsi  This dryer is not reliable. It quits running a...   \n",
       "\n",
       "                                             summary  unixReviewTime image  \n",
       "0                                            garbage      1503014400   NaN  \n",
       "1  I purchased IcePure because it seemed like a g...      1492473600   NaN  \n",
       "2                           Junk - Flee this Garbage      1362355200   NaN  \n",
       "3                          do NOT buy for KITCHENAID      1420070400   NaN  \n",
       "4  This dryer is not reliable. It quits running a...      1450224000   NaN  "
      ]
     },
     "execution_count": 71,
     "metadata": {},
     "output_type": "execute_result"
    }
   ],
   "source": [
    "sample_df.head()"
   ]
  },
  {
   "cell_type": "code",
   "execution_count": 72,
   "id": "d7d19e76-cb32-48ab-9353-2993081e7433",
   "metadata": {},
   "outputs": [
    {
     "data": {
      "text/plain": [
       "<AxesSubplot:xlabel='overall', ylabel='count'>"
      ]
     },
     "execution_count": 72,
     "metadata": {},
     "output_type": "execute_result"
    },
    {
     "data": {
      "image/png": "[encoded data removed]",
      "text/plain": [
       "<Figure size 432x288 with 1 Axes>"
      ]
     },
     "metadata": {
      "needs_background": "light"
     },
     "output_type": "display_data"
    }
   ],
   "source": [
    "# Now we have a new df with balance labels.\n",
    "sns.countplot(data=sample_df, x=\"overall\")"
   ]
  },
  {
   "cell_type": "code",
   "execution_count": 73,
   "id": "135767c9-7c8d-4db0-95dd-0ef4a684a9f5",
   "metadata": {},
   "outputs": [],
   "source": [
    "# create another dataset with random sampling.\n",
    "random_df = df.sample(n=100000, random_state=4444)"
   ]
  },
  {
   "cell_type": "code",
   "execution_count": 74,
   "id": "a9915ba2-6b6f-4941-9d77-b9f477c9b674",
   "metadata": {},
   "outputs": [
    {
     "data": {
      "text/plain": [
       "<AxesSubplot:xlabel='overall', ylabel='count'>"
      ]
     },
     "execution_count": 74,
     "metadata": {},
     "output_type": "execute_result"
    },
    {
     "data": {
      "image/png": "[encoded data removed]",
      "text/plain": [
       "<Figure size 432x288 with 1 Axes>"
      ]
     },
     "metadata": {
      "needs_background": "light"
     },
     "output_type": "display_data"
    }
   ],
   "source": [
    "# show labels from random sample dataset\n",
    "sns.countplot(data=random_df, x=\"overall\")"
   ]
  },
  {
   "cell_type": "code",
   "execution_count": 75,
   "id": "128e5d28-98c1-44d8-89ee-2ab4e8610a33",
   "metadata": {},
   "outputs": [],
   "source": [
    "## export processed datasets\n",
    "sample_df.to_csv(\"./data/sample_df.csv\", index=False)\n",
    "random_df.to_csv(\"./data/random_df.csv\", index=False)"
   ]
  },
  {
   "cell_type": "code",
   "execution_count": null,
   "id": "d9fb0bac-333e-4e8c-b450-508c5a0e1e64",
   "metadata": {},
   "outputs": [],
   "source": []
  }
 ],
 "metadata": {
  "kernelspec": {
   "display_name": "Python 3 (ipykernel)",
   "language": "python",
   "name": "python3"
  },
  "language_info": {
   "codemirror_mode": {
    "name": "ipython",
    "version": 3
   },
   "file_extension": ".py",
   "mimetype": "text/x-python",
   "name": "python",
   "nbconvert_exporter": "python",
   "pygments_lexer": "ipython3",
   "version": "3.8.12"
  }
 },
 "nbformat": 4,
 "nbformat_minor": 5
}
